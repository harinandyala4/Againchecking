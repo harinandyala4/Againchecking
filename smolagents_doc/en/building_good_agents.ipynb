{
  "cells": [
    {
      "cell_type": "code",
      "execution_count": 1,
      "metadata": {
        "id": "iyzh5frwohFZ",
        "outputId": "c6277bcf-65c4-43f6-e2da-111a56013932",
        "colab": {
          "base_uri": "https://localhost:8080/"
        }
      },
      "outputs": [
        {
          "output_type": "stream",
          "name": "stdout",
          "text": [
            "Collecting smolagents\n",
            "  Downloading smolagents-1.17.0-py3-none-any.whl.metadata (16 kB)\n",
            "Requirement already satisfied: huggingface-hub>=0.31.2 in /usr/local/lib/python3.11/dist-packages (from smolagents) (0.31.4)\n",
            "Requirement already satisfied: requests>=2.32.3 in /usr/local/lib/python3.11/dist-packages (from smolagents) (2.32.3)\n",
            "Requirement already satisfied: rich>=13.9.4 in /usr/local/lib/python3.11/dist-packages (from smolagents) (13.9.4)\n",
            "Requirement already satisfied: jinja2>=3.1.4 in /usr/local/lib/python3.11/dist-packages (from smolagents) (3.1.6)\n",
            "Requirement already satisfied: pillow>=10.0.1 in /usr/local/lib/python3.11/dist-packages (from smolagents) (11.2.1)\n",
            "Collecting python-dotenv (from smolagents)\n",
            "  Downloading python_dotenv-1.1.0-py3-none-any.whl.metadata (24 kB)\n",
            "Requirement already satisfied: filelock in /usr/local/lib/python3.11/dist-packages (from huggingface-hub>=0.31.2->smolagents) (3.18.0)\n",
            "Requirement already satisfied: fsspec>=2023.5.0 in /usr/local/lib/python3.11/dist-packages (from huggingface-hub>=0.31.2->smolagents) (2025.3.2)\n",
            "Requirement already satisfied: packaging>=20.9 in /usr/local/lib/python3.11/dist-packages (from huggingface-hub>=0.31.2->smolagents) (24.2)\n",
            "Requirement already satisfied: pyyaml>=5.1 in /usr/local/lib/python3.11/dist-packages (from huggingface-hub>=0.31.2->smolagents) (6.0.2)\n",
            "Requirement already satisfied: tqdm>=4.42.1 in /usr/local/lib/python3.11/dist-packages (from huggingface-hub>=0.31.2->smolagents) (4.67.1)\n",
            "Requirement already satisfied: typing-extensions>=3.7.4.3 in /usr/local/lib/python3.11/dist-packages (from huggingface-hub>=0.31.2->smolagents) (4.13.2)\n",
            "Requirement already satisfied: MarkupSafe>=2.0 in /usr/local/lib/python3.11/dist-packages (from jinja2>=3.1.4->smolagents) (3.0.2)\n",
            "Requirement already satisfied: charset-normalizer<4,>=2 in /usr/local/lib/python3.11/dist-packages (from requests>=2.32.3->smolagents) (3.4.2)\n",
            "Requirement already satisfied: idna<4,>=2.5 in /usr/local/lib/python3.11/dist-packages (from requests>=2.32.3->smolagents) (3.10)\n",
            "Requirement already satisfied: urllib3<3,>=1.21.1 in /usr/local/lib/python3.11/dist-packages (from requests>=2.32.3->smolagents) (2.4.0)\n",
            "Requirement already satisfied: certifi>=2017.4.17 in /usr/local/lib/python3.11/dist-packages (from requests>=2.32.3->smolagents) (2025.4.26)\n",
            "Requirement already satisfied: markdown-it-py>=2.2.0 in /usr/local/lib/python3.11/dist-packages (from rich>=13.9.4->smolagents) (3.0.0)\n",
            "Requirement already satisfied: pygments<3.0.0,>=2.13.0 in /usr/local/lib/python3.11/dist-packages (from rich>=13.9.4->smolagents) (2.19.1)\n",
            "Requirement already satisfied: mdurl~=0.1 in /usr/local/lib/python3.11/dist-packages (from markdown-it-py>=2.2.0->rich>=13.9.4->smolagents) (0.1.2)\n",
            "Downloading smolagents-1.17.0-py3-none-any.whl (133 kB)\n",
            "\u001b[2K   \u001b[90m━━━━━━━━━━━━━━━━━━━━━━━━━━━━━━━━━━━━━━━━\u001b[0m \u001b[32m134.0/134.0 kB\u001b[0m \u001b[31m6.8 MB/s\u001b[0m eta \u001b[36m0:00:00\u001b[0m\n",
            "\u001b[?25hDownloading python_dotenv-1.1.0-py3-none-any.whl (20 kB)\n",
            "Installing collected packages: python-dotenv, smolagents\n",
            "Successfully installed python-dotenv-1.1.0 smolagents-1.17.0\n"
          ]
        }
      ],
      "source": [
        "# Installation\n",
        "! pip install smolagents\n",
        "# To install from source instead of the last release, comment the command above and uncomment the following one.\n",
        "# ! pip install git+https://github.com/huggingface/smolagents.git"
      ]
    },
    {
      "cell_type": "markdown",
      "metadata": {
        "id": "Lygw0IH0ohFe"
      },
      "source": [
        "# Building good agents"
      ]
    },
    {
      "cell_type": "markdown",
      "metadata": {
        "id": "hivPqTEjohFf"
      },
      "source": [
        "There's a world of difference between building an agent that works and one that doesn't.\n",
        "How can we build agents that fall into the former category?\n",
        "In this guide, we're going to talk about best practices for building agents.\n",
        "\n",
        "> [!TIP]\n",
        "> If you're new to building agents, make sure to first read the [intro to agents](https://huggingface.co/docs/smolagents/main/en/tutorials/../conceptual_guides/intro_agents) and the [guided tour of smolagents](https://huggingface.co/docs/smolagents/main/en/tutorials/../guided_tour)."
      ]
    },
    {
      "cell_type": "markdown",
      "metadata": {
        "id": "qo0wtwYIohFg"
      },
      "source": [
        "### The best agentic systems are the simplest: simplify the workflow as much as you can"
      ]
    },
    {
      "cell_type": "markdown",
      "metadata": {
        "id": "8JxaLgNvohFg"
      },
      "source": [
        "Giving an LLM some agency in your workflow introduces some risk of errors.\n",
        "\n",
        "Well-programmed agentic systems have good error logging and retry mechanisms anyway, so the LLM engine has a chance to self-correct their mistake. But to reduce the risk of LLM error to the maximum, you should simplify your workflow!\n",
        "\n",
        "Let's revisit the example from the [intro to agents](https://huggingface.co/docs/smolagents/main/en/tutorials/../conceptual_guides/intro_agents): a bot that answers user queries for a surf trip company.\n",
        "Instead of letting the agent do 2 different calls for \"travel distance API\" and \"weather API\" each time they are asked about a new surf spot, you could just make one unified tool \"return_spot_information\", a function that calls both APIs at once and returns their concatenated outputs to the user.\n",
        "\n",
        "This will reduce costs, latency, and error risk!\n",
        "\n",
        "The main guideline is: Reduce the number of LLM calls as much as you can.\n",
        "\n",
        "This leads to a few takeaways:\n",
        "- Whenever possible, group 2 tools in one, like in our example of the two APIs.\n",
        "- Whenever possible, logic should be based on deterministic functions rather than agentic decisions."
      ]
    },
    {
      "cell_type": "markdown",
      "metadata": {
        "id": "-N0pL8veohFh"
      },
      "source": [
        "### Improve the information flow to the LLM engine"
      ]
    },
    {
      "cell_type": "markdown",
      "metadata": {
        "id": "e47YcJwGohFh"
      },
      "source": [
        "Remember that your LLM engine is like an *intelligent* robot, trapped into a room with the only communication with the outside world being notes passed under a door.\n",
        "\n",
        "It won't know of anything that happened if you don't explicitly put that into its prompt.\n",
        "\n",
        "So first start with making your task very clear!\n",
        "Since an agent is powered by an LLM, minor variations in your task formulation might yield completely different results.\n",
        "\n",
        "Then, improve the information flow towards your agent in tool use.\n",
        "\n",
        "Particular guidelines to follow:\n",
        "- Each tool should log (by simply using `print` statements inside the tool's `forward` method) everything that could be useful for the LLM engine.\n",
        "  - In particular, logging detail on tool execution errors would help a lot!\n",
        "\n",
        "For instance, here's a tool that retrieves weather data based on location and date-time:\n",
        "\n",
        "First, here's a poor version:"
      ]
    },
    {
      "cell_type": "code",
      "execution_count": 2,
      "metadata": {
        "id": "z41K-XqUohFi"
      },
      "outputs": [],
      "source": [
        "import datetime\n",
        "from smolagents import tool\n",
        "\n",
        "def get_weather_report_at_coordinates(coordinates, date_time):\n",
        "    # Dummy function, returns a list of [temperature in °C, risk of rain on a scale 0-1, wave height in m]\n",
        "    return [28.0, 0.35, 0.85]\n",
        "\n",
        "def convert_location_to_coordinates(location):\n",
        "    # Returns dummy coordinates\n",
        "    return [3.3, -42.0]\n",
        "\n",
        "@tool\n",
        "def get_weather_api(location: str, date_time: str) -> str:\n",
        "    \"\"\"\n",
        "    Returns the weather report.\n",
        "\n",
        "    Args:\n",
        "        location: the name of the place that you want the weather for.\n",
        "        date_time: the date and time for which you want the report.\n",
        "    \"\"\"\n",
        "    lon, lat = convert_location_to_coordinates(location)\n",
        "    date_time = datetime.strptime(date_time)\n",
        "    return str(get_weather_report_at_coordinates((lon, lat), date_time))"
      ]
    },
    {
      "cell_type": "markdown",
      "metadata": {
        "id": "iPRCwSCxohFi"
      },
      "source": [
        "Why is it bad?\n",
        "- there's no precision of the format that should be used for `date_time`\n",
        "- there's no detail on how location should be specified.\n",
        "- there's no logging mechanism trying to make explicit failure cases like location not being in a proper format, or date_time not being properly formatted.\n",
        "- the output format is hard to understand\n",
        "\n",
        "If the tool call fails, the error trace logged in memory can help the LLM reverse engineer the tool to fix the errors. But why leave it with so much heavy lifting to do?\n",
        "\n",
        "A better way to build this tool would have been the following:"
      ]
    },
    {
      "cell_type": "code",
      "execution_count": 3,
      "metadata": {
        "id": "JJ2pWD4PohFj"
      },
      "outputs": [],
      "source": [
        "@tool\n",
        "def get_weather_api(location: str, date_time: str) -> str:\n",
        "    \"\"\"\n",
        "    Returns the weather report.\n",
        "\n",
        "    Args:\n",
        "        location: the name of the place that you want the weather for. Should be a place name, followed by possibly a city name, then a country, like \"Anchor Point, Taghazout, Morocco\".\n",
        "        date_time: the date and time for which you want the report, formatted as '%m/%d/%y %H:%M:%S'.\n",
        "    \"\"\"\n",
        "    lon, lat = convert_location_to_coordinates(location)\n",
        "    try:\n",
        "        date_time = datetime.strptime(date_time)\n",
        "    except Exception as e:\n",
        "        raise ValueError(\"Conversion of `date_time` to datetime format failed, make sure to provide a string in format '%m/%d/%y %H:%M:%S'. Full trace:\" + str(e))\n",
        "    temperature_celsius, risk_of_rain, wave_height = get_weather_report_at_coordinates((lon, lat), date_time)\n",
        "    return f\"Weather report for {location}, {date_time}: Temperature will be {temperature_celsius}°C, risk of rain is {risk_of_rain*100:.0f}%, wave height is {wave_height}m.\""
      ]
    },
    {
      "cell_type": "markdown",
      "metadata": {
        "id": "E_YHsXLEohFj"
      },
      "source": [
        "In general, to ease the load on your LLM, the good question to ask yourself is: \"How easy would it be for me, if I was dumb and using this tool for the first time ever, to program with this tool and correct my own errors?\"."
      ]
    },
    {
      "cell_type": "markdown",
      "metadata": {
        "id": "aw9jteMzohFj"
      },
      "source": [
        "### Give more arguments to the agent"
      ]
    },
    {
      "cell_type": "markdown",
      "metadata": {
        "id": "M4tzgPpdohFk"
      },
      "source": [
        "To pass some additional objects to your agent beyond the simple string describing the task, you can use the `additional_args` argument to pass any type of object:"
      ]
    },
    {
      "cell_type": "code",
      "source": [
        "!pip install duckduckgo_search"
      ],
      "metadata": {
        "id": "0sA7tELRo4kR",
        "outputId": "ef03f8f3-f805-4290-b6b2-3b71869bbaec",
        "colab": {
          "base_uri": "https://localhost:8080/"
        }
      },
      "execution_count": 5,
      "outputs": [
        {
          "output_type": "stream",
          "name": "stdout",
          "text": [
            "Collecting duckduckgo_search\n",
            "  Downloading duckduckgo_search-8.0.2-py3-none-any.whl.metadata (16 kB)\n",
            "Requirement already satisfied: click>=8.1.8 in /usr/local/lib/python3.11/dist-packages (from duckduckgo_search) (8.2.1)\n",
            "Collecting primp>=0.15.0 (from duckduckgo_search)\n",
            "  Downloading primp-0.15.0-cp38-abi3-manylinux_2_17_x86_64.manylinux2014_x86_64.whl.metadata (13 kB)\n",
            "Requirement already satisfied: lxml>=5.3.0 in /usr/local/lib/python3.11/dist-packages (from duckduckgo_search) (5.4.0)\n",
            "Downloading duckduckgo_search-8.0.2-py3-none-any.whl (18 kB)\n",
            "Downloading primp-0.15.0-cp38-abi3-manylinux_2_17_x86_64.manylinux2014_x86_64.whl (3.3 MB)\n",
            "\u001b[2K   \u001b[90m━━━━━━━━━━━━━━━━━━━━━━━━━━━━━━━━━━━━━━━━\u001b[0m \u001b[32m3.3/3.3 MB\u001b[0m \u001b[31m54.7 MB/s\u001b[0m eta \u001b[36m0:00:00\u001b[0m\n",
            "\u001b[?25hInstalling collected packages: primp, duckduckgo_search\n",
            "Successfully installed duckduckgo_search-8.0.2 primp-0.15.0\n"
          ]
        }
      ]
    },
    {
      "cell_type": "code",
      "execution_count": 6,
      "metadata": {
        "id": "Soc-LblqohFk",
        "outputId": "8b4fc1a6-606b-4d59-9082-974b7a37a456",
        "colab": {
          "base_uri": "https://localhost:8080/",
          "height": 1000
        }
      },
      "outputs": [
        {
          "output_type": "display_data",
          "data": {
            "text/plain": [
              "\u001b[38;2;212;183;2m╭─\u001b[0m\u001b[38;2;212;183;2m───────────────────────────────────────────────────\u001b[0m\u001b[38;2;212;183;2m \u001b[0m\u001b[1;38;2;212;183;2mNew run\u001b[0m\u001b[38;2;212;183;2m \u001b[0m\u001b[38;2;212;183;2m───────────────────────────────────────────────────\u001b[0m\u001b[38;2;212;183;2m─╮\u001b[0m\n",
              "\u001b[38;2;212;183;2m│\u001b[0m                                                                                                                 \u001b[38;2;212;183;2m│\u001b[0m\n",
              "\u001b[38;2;212;183;2m│\u001b[0m \u001b[1mWhy does Mike not know many people in New York?\u001b[0m                                                                 \u001b[38;2;212;183;2m│\u001b[0m\n",
              "\u001b[38;2;212;183;2m│\u001b[0m \u001b[1mYou have been provided with these additional arguments, that you can access using the keys as variables in your\u001b[0m \u001b[38;2;212;183;2m│\u001b[0m\n",
              "\u001b[38;2;212;183;2m│\u001b[0m \u001b[1mpython code:\u001b[0m                                                                                                    \u001b[38;2;212;183;2m│\u001b[0m\n",
              "\u001b[38;2;212;183;2m│\u001b[0m \u001b[1m{'mp3_sound_file_url': \u001b[0m                                                                                         \u001b[38;2;212;183;2m│\u001b[0m\n",
              "\u001b[38;2;212;183;2m│\u001b[0m \u001b[1m'https://huggingface.co/datasets/huggingface/documentation-images/resolve/main/transformers/recording.mp3'}.\u001b[0m    \u001b[38;2;212;183;2m│\u001b[0m\n",
              "\u001b[38;2;212;183;2m│\u001b[0m                                                                                                                 \u001b[38;2;212;183;2m│\u001b[0m\n",
              "\u001b[38;2;212;183;2m╰─\u001b[0m\u001b[38;2;212;183;2m InferenceClientModel - meta-llama/Llama-3.3-70B-Instruct \u001b[0m\u001b[38;2;212;183;2m─────────────────────────────────────────────────────\u001b[0m\u001b[38;2;212;183;2m─╯\u001b[0m\n"
            ],
            "text/html": [
              "<pre style=\"white-space:pre;overflow-x:auto;line-height:normal;font-family:Menlo,'DejaVu Sans Mono',consolas,'Courier New',monospace\"><span style=\"color: #d4b702; text-decoration-color: #d4b702\">╭──────────────────────────────────────────────────── </span><span style=\"color: #d4b702; text-decoration-color: #d4b702; font-weight: bold\">New run</span><span style=\"color: #d4b702; text-decoration-color: #d4b702\"> ────────────────────────────────────────────────────╮</span>\n",
              "<span style=\"color: #d4b702; text-decoration-color: #d4b702\">│</span>                                                                                                                 <span style=\"color: #d4b702; text-decoration-color: #d4b702\">│</span>\n",
              "<span style=\"color: #d4b702; text-decoration-color: #d4b702\">│</span> <span style=\"font-weight: bold\">Why does Mike not know many people in New York?</span>                                                                 <span style=\"color: #d4b702; text-decoration-color: #d4b702\">│</span>\n",
              "<span style=\"color: #d4b702; text-decoration-color: #d4b702\">│</span> <span style=\"font-weight: bold\">You have been provided with these additional arguments, that you can access using the keys as variables in your</span> <span style=\"color: #d4b702; text-decoration-color: #d4b702\">│</span>\n",
              "<span style=\"color: #d4b702; text-decoration-color: #d4b702\">│</span> <span style=\"font-weight: bold\">python code:</span>                                                                                                    <span style=\"color: #d4b702; text-decoration-color: #d4b702\">│</span>\n",
              "<span style=\"color: #d4b702; text-decoration-color: #d4b702\">│</span> <span style=\"font-weight: bold\">{'mp3_sound_file_url': </span>                                                                                         <span style=\"color: #d4b702; text-decoration-color: #d4b702\">│</span>\n",
              "<span style=\"color: #d4b702; text-decoration-color: #d4b702\">│</span> <span style=\"font-weight: bold\">'https://huggingface.co/datasets/huggingface/documentation-images/resolve/main/transformers/recording.mp3'}.</span>    <span style=\"color: #d4b702; text-decoration-color: #d4b702\">│</span>\n",
              "<span style=\"color: #d4b702; text-decoration-color: #d4b702\">│</span>                                                                                                                 <span style=\"color: #d4b702; text-decoration-color: #d4b702\">│</span>\n",
              "<span style=\"color: #d4b702; text-decoration-color: #d4b702\">╰─ InferenceClientModel - meta-llama/Llama-3.3-70B-Instruct ──────────────────────────────────────────────────────╯</span>\n",
              "</pre>\n"
            ]
          },
          "metadata": {}
        },
        {
          "output_type": "display_data",
          "data": {
            "text/plain": [
              "\u001b[38;2;212;183;2m━━━━━━━━━━━━━━━━━━━━━━━━━━━━━━━━━━━━━━━━━━━━━━━━━━━━━ \u001b[0m\u001b[1mStep \u001b[0m\u001b[1;36m1\u001b[0m\u001b[38;2;212;183;2m ━━━━━━━━━━━━━━━━━━━━━━━━━━━━━━━━━━━━━━━━━━━━━━━━━━━━━━\u001b[0m\n"
            ],
            "text/html": [
              "<pre style=\"white-space:pre;overflow-x:auto;line-height:normal;font-family:Menlo,'DejaVu Sans Mono',consolas,'Courier New',monospace\"><span style=\"color: #d4b702; text-decoration-color: #d4b702\">━━━━━━━━━━━━━━━━━━━━━━━━━━━━━━━━━━━━━━━━━━━━━━━━━━━━━ </span><span style=\"font-weight: bold\">Step </span><span style=\"color: #008080; text-decoration-color: #008080; font-weight: bold\">1</span><span style=\"color: #d4b702; text-decoration-color: #d4b702\"> ━━━━━━━━━━━━━━━━━━━━━━━━━━━━━━━━━━━━━━━━━━━━━━━━━━━━━━</span>\n",
              "</pre>\n"
            ]
          },
          "metadata": {}
        },
        {
          "output_type": "display_data",
          "data": {
            "text/plain": [
              " ─ \u001b[1mExecuting parsed code:\u001b[0m ──────────────────────────────────────────────────────────────────────────────────────── \n",
              "  \u001b[38;2;248;248;242;48;2;39;40;34mmp3_file\u001b[0m\u001b[38;2;248;248;242;48;2;39;40;34m \u001b[0m\u001b[38;2;255;70;137;48;2;39;40;34m=\u001b[0m\u001b[38;2;248;248;242;48;2;39;40;34m \u001b[0m\u001b[38;2;248;248;242;48;2;39;40;34mvisit_webpage\u001b[0m\u001b[38;2;248;248;242;48;2;39;40;34m(\u001b[0m\u001b[38;2;248;248;242;48;2;39;40;34mmp3_sound_file_url\u001b[0m\u001b[38;2;248;248;242;48;2;39;40;34m)\u001b[0m\u001b[48;2;39;40;34m                                                                   \u001b[0m  \n",
              "  \u001b[38;2;248;248;242;48;2;39;40;34mprint\u001b[0m\u001b[38;2;248;248;242;48;2;39;40;34m(\u001b[0m\u001b[38;2;248;248;242;48;2;39;40;34mmp3_file\u001b[0m\u001b[38;2;248;248;242;48;2;39;40;34m)\u001b[0m\u001b[48;2;39;40;34m                                                                                                \u001b[0m  \n",
              " ───────────────────────────────────────────────────────────────────────────────────────────────────────────────── \n"
            ],
            "text/html": [
              "<pre style=\"white-space:pre;overflow-x:auto;line-height:normal;font-family:Menlo,'DejaVu Sans Mono',consolas,'Courier New',monospace\"> ─ <span style=\"font-weight: bold\">Executing parsed code:</span> ──────────────────────────────────────────────────────────────────────────────────────── \n",
              "  <span style=\"color: #f8f8f2; text-decoration-color: #f8f8f2; background-color: #272822\">mp3_file </span><span style=\"color: #ff4689; text-decoration-color: #ff4689; background-color: #272822\">=</span><span style=\"color: #f8f8f2; text-decoration-color: #f8f8f2; background-color: #272822\"> visit_webpage(mp3_sound_file_url)</span><span style=\"background-color: #272822\">                                                                   </span>  \n",
              "  <span style=\"color: #f8f8f2; text-decoration-color: #f8f8f2; background-color: #272822\">print(mp3_file)</span><span style=\"background-color: #272822\">                                                                                                </span>  \n",
              " ───────────────────────────────────────────────────────────────────────────────────────────────────────────────── \n",
              "</pre>\n"
            ]
          },
          "metadata": {}
        },
        {
          "output_type": "display_data",
          "data": {
            "text/plain": [
              "\u001b[1;31mCode execution failed at line \u001b[0m\u001b[32m'mp3_file = visit_webpage\u001b[0m\u001b[32m(\u001b[0m\u001b[32mmp3_sound_file_url\u001b[0m\u001b[32m)\u001b[0m\u001b[32m'\u001b[0m\u001b[1;31m due to: ImportError: You must install \u001b[0m\n",
              "\u001b[1;31mpackages `markdownify` and `requests` to run this tool: for instance run `pip install markdownify requests`.\u001b[0m\n"
            ],
            "text/html": [
              "<pre style=\"white-space:pre;overflow-x:auto;line-height:normal;font-family:Menlo,'DejaVu Sans Mono',consolas,'Courier New',monospace\"><span style=\"color: #800000; text-decoration-color: #800000; font-weight: bold\">Code execution failed at line </span><span style=\"color: #008000; text-decoration-color: #008000\">'mp3_file = visit_webpage(mp3_sound_file_url)'</span><span style=\"color: #800000; text-decoration-color: #800000; font-weight: bold\"> due to: ImportError: You must install </span>\n",
              "<span style=\"color: #800000; text-decoration-color: #800000; font-weight: bold\">packages `markdownify` and `requests` to run this tool: for instance run `pip install markdownify requests`.</span>\n",
              "</pre>\n"
            ]
          },
          "metadata": {}
        },
        {
          "output_type": "display_data",
          "data": {
            "text/plain": [
              "\u001b[2m[Step 1: Duration 9.52 seconds| Input tokens: 2,140 | Output tokens: 70]\u001b[0m\n"
            ],
            "text/html": [
              "<pre style=\"white-space:pre;overflow-x:auto;line-height:normal;font-family:Menlo,'DejaVu Sans Mono',consolas,'Courier New',monospace\"><span style=\"color: #7f7f7f; text-decoration-color: #7f7f7f\">[Step 1: Duration 9.52 seconds| Input tokens: 2,140 | Output tokens: 70]</span>\n",
              "</pre>\n"
            ]
          },
          "metadata": {}
        },
        {
          "output_type": "display_data",
          "data": {
            "text/plain": [
              "\u001b[38;2;212;183;2m━━━━━━━━━━━━━━━━━━━━━━━━━━━━━━━━━━━━━━━━━━━━━━━━━━━━━ \u001b[0m\u001b[1mStep \u001b[0m\u001b[1;36m2\u001b[0m\u001b[38;2;212;183;2m ━━━━━━━━━━━━━━━━━━━━━━━━━━━━━━━━━━━━━━━━━━━━━━━━━━━━━━\u001b[0m\n"
            ],
            "text/html": [
              "<pre style=\"white-space:pre;overflow-x:auto;line-height:normal;font-family:Menlo,'DejaVu Sans Mono',consolas,'Courier New',monospace\"><span style=\"color: #d4b702; text-decoration-color: #d4b702\">━━━━━━━━━━━━━━━━━━━━━━━━━━━━━━━━━━━━━━━━━━━━━━━━━━━━━ </span><span style=\"font-weight: bold\">Step </span><span style=\"color: #008080; text-decoration-color: #008080; font-weight: bold\">2</span><span style=\"color: #d4b702; text-decoration-color: #d4b702\"> ━━━━━━━━━━━━━━━━━━━━━━━━━━━━━━━━━━━━━━━━━━━━━━━━━━━━━━</span>\n",
              "</pre>\n"
            ]
          },
          "metadata": {}
        },
        {
          "output_type": "display_data",
          "data": {
            "text/plain": [
              " ─ \u001b[1mExecuting parsed code:\u001b[0m ──────────────────────────────────────────────────────────────────────────────────────── \n",
              "  \u001b[38;2;248;248;242;48;2;39;40;34mresult\u001b[0m\u001b[38;2;248;248;242;48;2;39;40;34m \u001b[0m\u001b[38;2;255;70;137;48;2;39;40;34m=\u001b[0m\u001b[38;2;248;248;242;48;2;39;40;34m \u001b[0m\u001b[38;2;248;248;242;48;2;39;40;34mweb_search\u001b[0m\u001b[38;2;248;248;242;48;2;39;40;34m(\u001b[0m\u001b[38;2;248;248;242;48;2;39;40;34mquery\u001b[0m\u001b[38;2;255;70;137;48;2;39;40;34m=\u001b[0m\u001b[38;2;230;219;116;48;2;39;40;34m\"\u001b[0m\u001b[38;2;230;219;116;48;2;39;40;34mMike does not know many people in New York\u001b[0m\u001b[38;2;230;219;116;48;2;39;40;34m\"\u001b[0m\u001b[38;2;248;248;242;48;2;39;40;34m)\u001b[0m\u001b[48;2;39;40;34m                                        \u001b[0m  \n",
              "  \u001b[38;2;248;248;242;48;2;39;40;34mprint\u001b[0m\u001b[38;2;248;248;242;48;2;39;40;34m(\u001b[0m\u001b[38;2;248;248;242;48;2;39;40;34mresult\u001b[0m\u001b[38;2;248;248;242;48;2;39;40;34m)\u001b[0m\u001b[48;2;39;40;34m                                                                                                  \u001b[0m  \n",
              " ───────────────────────────────────────────────────────────────────────────────────────────────────────────────── \n"
            ],
            "text/html": [
              "<pre style=\"white-space:pre;overflow-x:auto;line-height:normal;font-family:Menlo,'DejaVu Sans Mono',consolas,'Courier New',monospace\"> ─ <span style=\"font-weight: bold\">Executing parsed code:</span> ──────────────────────────────────────────────────────────────────────────────────────── \n",
              "  <span style=\"color: #f8f8f2; text-decoration-color: #f8f8f2; background-color: #272822\">result </span><span style=\"color: #ff4689; text-decoration-color: #ff4689; background-color: #272822\">=</span><span style=\"color: #f8f8f2; text-decoration-color: #f8f8f2; background-color: #272822\"> web_search(query</span><span style=\"color: #ff4689; text-decoration-color: #ff4689; background-color: #272822\">=</span><span style=\"color: #e6db74; text-decoration-color: #e6db74; background-color: #272822\">\"Mike does not know many people in New York\"</span><span style=\"color: #f8f8f2; text-decoration-color: #f8f8f2; background-color: #272822\">)</span><span style=\"background-color: #272822\">                                        </span>  \n",
              "  <span style=\"color: #f8f8f2; text-decoration-color: #f8f8f2; background-color: #272822\">print(result)</span><span style=\"background-color: #272822\">                                                                                                  </span>  \n",
              " ───────────────────────────────────────────────────────────────────────────────────────────────────────────────── \n",
              "</pre>\n"
            ]
          },
          "metadata": {}
        },
        {
          "output_type": "display_data",
          "data": {
            "text/plain": [
              "\u001b[1mExecution logs:\u001b[0m\n",
              "## Search Results\n",
              "\n",
              "[The Most Powerful New Yorkers List - New York \n",
              "Magazine](https://nymag.com/intelligencer/article/new-york-inside-power-list.html)\n",
              "The Most Powerful New Yorkers List: Here are 49 people who shape and run New York City. You may not even know their\n",
              "names. 49 people who are actually running New York City.\n",
              "\n",
              "[MIKE is Fighting to Stay Present in the Moment - Interview \n",
              "Magazine](https://www.interviewmagazine.com/music/mike-is-taking-his-time-and-living-in-the-moment)\n",
              "MIKE, the 24-year-old critically acclaimed godfather of New York City's current underground rap scene, released his\n",
              "eighth album, Beware of the Monkey, on December 21st.It's a triumph of a project; a meditation on loss and grief, a\n",
              "cathartic exploration of success—financial and spiritual—and a celebration of the blessing of family, friends, and \n",
              "simply being alive.\n",
              "\n",
              "[Michael Malloy - Wikipedia](https://en.wikipedia.org/wiki/Michael_Malloy)\n",
              "Michael Malloy (1873 - February 22, 1933), nicknamed Mike the Durable or Iron Mike, was a homeless Irishman from \n",
              "County Donegal who lived in New York City during the 1920s and 1930s. [2] [3] A former firefighter and stationary \n",
              "engineer, he was murdered by a group of five acquaintances after multiple failed attempts on his life by the men to\n",
              "perpetrate life insurance fraud.\n",
              "\n",
              "[I Interviewed Hundreds of New Yorkers. Here's What I Learnt - \n",
              "TIME](https://time.com/5949115/craig-taylor-new-yorkers/)\n",
              "Taylor, the editor of Five Dials, is the author of the new book New Yorkers: A City and Its People In Our Time. In \n",
              "2014 I was given a unique assignment: move to New York and talk to people ...\n",
              "\n",
              "[MGT CH 17 Flashcards - Quizlet](https://quizlet.com/614106757/mgt-ch-17-flash-cards/)\n",
              "Alex just started his first job as a new manager after he graduated from college. Alex relocated to a new city for \n",
              "this position and does not know many people at his employer or in the community.\n",
              "\n",
              "[New York City - NYC Planning Population FactFinder](https://popfactfinder.planning.nyc.gov/)\n",
              "NYC Population FactFinder has been updated with 2019-2023 American Community Survey (ACS) data. 2018-2022 ACS data \n",
              "are still available in the ACS sub-section of NYC City Planning's Population Division website. NYC Population \n",
              "FactFinder is optimized for desktop screen widths.\n",
              "\n",
              "[My Kind of Town: New York - Smithsonian \n",
              "Magazine](https://www.smithsonianmag.com/travel/my-kind-of-town-new-york-37072818/)\n",
              "In my experience, many people believe that New Yorkers are smarter than other Americans, and this may actually be \n",
              "true. The majority of people who live in New York City were not born here. Indeed ...\n",
              "\n",
              "[Mike Bloomberg's New York City mayoral record, from 9/11 to ... - \n",
              "Vox](https://www.vox.com/2020-presidential-election/2020/2/27/21153145/mike-bloomberg-record-mayor-racist-stop-fris\n",
              "k-new-york)\n",
              "There are probably two things many people tuning in to the Democratic presidential primary know about Mike \n",
              "Bloomberg's mayoral record in New York City: He backed stop-and-frisk policing, and he ...\n",
              "\n",
              "[New York Values, According to New Yorkers - The New York \n",
              "Times](https://www.nytimes.com/interactive/2016/01/15/nyregion/new-yorkers-values.html)\n",
              "Senator Ted Cruz attacked Donald J. Trump, a Queens native, for having \"New York values.\" Amid much debate over \n",
              "what that means, we invited New Yorkers to share their own definition.\n",
              "\n",
              "[The Boys - The New Yorker](https://www.newyorker.com/magazine/2004/08/30/the-boys-4)\n",
              "The sports-talk call-in show, as we know it, originated in New York forty years ago, with Bill Mazer, who is known \n",
              "as the Amazing, for his ability to answer obscure sports-trivia questions, and it ...\n",
              "\n",
              "Out: None\n"
            ],
            "text/html": [
              "<pre style=\"white-space:pre;overflow-x:auto;line-height:normal;font-family:Menlo,'DejaVu Sans Mono',consolas,'Courier New',monospace\"><span style=\"font-weight: bold\">Execution logs:</span>\n",
              "## Search Results\n",
              "\n",
              "[The Most Powerful New Yorkers List - New York \n",
              "Magazine](https://nymag.com/intelligencer/article/new-york-inside-power-list.html)\n",
              "The Most Powerful New Yorkers List: Here are 49 people who shape and run New York City. You may not even know their\n",
              "names. 49 people who are actually running New York City.\n",
              "\n",
              "[MIKE is Fighting to Stay Present in the Moment - Interview \n",
              "Magazine](https://www.interviewmagazine.com/music/mike-is-taking-his-time-and-living-in-the-moment)\n",
              "MIKE, the 24-year-old critically acclaimed godfather of New York City's current underground rap scene, released his\n",
              "eighth album, Beware of the Monkey, on December 21st.It's a triumph of a project; a meditation on loss and grief, a\n",
              "cathartic exploration of success—financial and spiritual—and a celebration of the blessing of family, friends, and \n",
              "simply being alive.\n",
              "\n",
              "[Michael Malloy - Wikipedia](https://en.wikipedia.org/wiki/Michael_Malloy)\n",
              "Michael Malloy (1873 - February 22, 1933), nicknamed Mike the Durable or Iron Mike, was a homeless Irishman from \n",
              "County Donegal who lived in New York City during the 1920s and 1930s. [2] [3] A former firefighter and stationary \n",
              "engineer, he was murdered by a group of five acquaintances after multiple failed attempts on his life by the men to\n",
              "perpetrate life insurance fraud.\n",
              "\n",
              "[I Interviewed Hundreds of New Yorkers. Here's What I Learnt - \n",
              "TIME](https://time.com/5949115/craig-taylor-new-yorkers/)\n",
              "Taylor, the editor of Five Dials, is the author of the new book New Yorkers: A City and Its People In Our Time. In \n",
              "2014 I was given a unique assignment: move to New York and talk to people ...\n",
              "\n",
              "[MGT CH 17 Flashcards - Quizlet](https://quizlet.com/614106757/mgt-ch-17-flash-cards/)\n",
              "Alex just started his first job as a new manager after he graduated from college. Alex relocated to a new city for \n",
              "this position and does not know many people at his employer or in the community.\n",
              "\n",
              "[New York City - NYC Planning Population FactFinder](https://popfactfinder.planning.nyc.gov/)\n",
              "NYC Population FactFinder has been updated with 2019-2023 American Community Survey (ACS) data. 2018-2022 ACS data \n",
              "are still available in the ACS sub-section of NYC City Planning's Population Division website. NYC Population \n",
              "FactFinder is optimized for desktop screen widths.\n",
              "\n",
              "[My Kind of Town: New York - Smithsonian \n",
              "Magazine](https://www.smithsonianmag.com/travel/my-kind-of-town-new-york-37072818/)\n",
              "In my experience, many people believe that New Yorkers are smarter than other Americans, and this may actually be \n",
              "true. The majority of people who live in New York City were not born here. Indeed ...\n",
              "\n",
              "[Mike Bloomberg's New York City mayoral record, from 9/11 to ... - \n",
              "Vox](https://www.vox.com/2020-presidential-election/2020/2/27/21153145/mike-bloomberg-record-mayor-racist-stop-fris\n",
              "k-new-york)\n",
              "There are probably two things many people tuning in to the Democratic presidential primary know about Mike \n",
              "Bloomberg's mayoral record in New York City: He backed stop-and-frisk policing, and he ...\n",
              "\n",
              "[New York Values, According to New Yorkers - The New York \n",
              "Times](https://www.nytimes.com/interactive/2016/01/15/nyregion/new-yorkers-values.html)\n",
              "Senator Ted Cruz attacked Donald J. Trump, a Queens native, for having \"New York values.\" Amid much debate over \n",
              "what that means, we invited New Yorkers to share their own definition.\n",
              "\n",
              "[The Boys - The New Yorker](https://www.newyorker.com/magazine/2004/08/30/the-boys-4)\n",
              "The sports-talk call-in show, as we know it, originated in New York forty years ago, with Bill Mazer, who is known \n",
              "as the Amazing, for his ability to answer obscure sports-trivia questions, and it ...\n",
              "\n",
              "Out: None\n",
              "</pre>\n"
            ]
          },
          "metadata": {}
        },
        {
          "output_type": "display_data",
          "data": {
            "text/plain": [
              "\u001b[2m[Step 2: Duration 2.90 seconds| Input tokens: 4,501 | Output tokens: 149]\u001b[0m\n"
            ],
            "text/html": [
              "<pre style=\"white-space:pre;overflow-x:auto;line-height:normal;font-family:Menlo,'DejaVu Sans Mono',consolas,'Courier New',monospace\"><span style=\"color: #7f7f7f; text-decoration-color: #7f7f7f\">[Step 2: Duration 2.90 seconds| Input tokens: 4,501 | Output tokens: 149]</span>\n",
              "</pre>\n"
            ]
          },
          "metadata": {}
        },
        {
          "output_type": "display_data",
          "data": {
            "text/plain": [
              "\u001b[38;2;212;183;2m━━━━━━━━━━━━━━━━━━━━━━━━━━━━━━━━━━━━━━━━━━━━━━━━━━━━━ \u001b[0m\u001b[1mStep \u001b[0m\u001b[1;36m3\u001b[0m\u001b[38;2;212;183;2m ━━━━━━━━━━━━━━━━━━━━━━━━━━━━━━━━━━━━━━━━━━━━━━━━━━━━━━\u001b[0m\n"
            ],
            "text/html": [
              "<pre style=\"white-space:pre;overflow-x:auto;line-height:normal;font-family:Menlo,'DejaVu Sans Mono',consolas,'Courier New',monospace\"><span style=\"color: #d4b702; text-decoration-color: #d4b702\">━━━━━━━━━━━━━━━━━━━━━━━━━━━━━━━━━━━━━━━━━━━━━━━━━━━━━ </span><span style=\"font-weight: bold\">Step </span><span style=\"color: #008080; text-decoration-color: #008080; font-weight: bold\">3</span><span style=\"color: #d4b702; text-decoration-color: #d4b702\"> ━━━━━━━━━━━━━━━━━━━━━━━━━━━━━━━━━━━━━━━━━━━━━━━━━━━━━━</span>\n",
              "</pre>\n"
            ]
          },
          "metadata": {}
        },
        {
          "output_type": "display_data",
          "data": {
            "text/plain": [
              " ─ \u001b[1mExecuting parsed code:\u001b[0m ──────────────────────────────────────────────────────────────────────────────────────── \n",
              "  \u001b[38;2;248;248;242;48;2;39;40;34mresult\u001b[0m\u001b[38;2;248;248;242;48;2;39;40;34m \u001b[0m\u001b[38;2;255;70;137;48;2;39;40;34m=\u001b[0m\u001b[38;2;248;248;242;48;2;39;40;34m \u001b[0m\u001b[38;2;248;248;242;48;2;39;40;34mweb_search\u001b[0m\u001b[38;2;248;248;242;48;2;39;40;34m(\u001b[0m\u001b[38;2;248;248;242;48;2;39;40;34mquery\u001b[0m\u001b[38;2;255;70;137;48;2;39;40;34m=\u001b[0m\u001b[38;2;230;219;116;48;2;39;40;34m\"\u001b[0m\u001b[38;2;230;219;116;48;2;39;40;34mMike new to New York\u001b[0m\u001b[38;2;230;219;116;48;2;39;40;34m\"\u001b[0m\u001b[38;2;248;248;242;48;2;39;40;34m)\u001b[0m\u001b[48;2;39;40;34m                                                              \u001b[0m  \n",
              "  \u001b[38;2;248;248;242;48;2;39;40;34mprint\u001b[0m\u001b[38;2;248;248;242;48;2;39;40;34m(\u001b[0m\u001b[38;2;248;248;242;48;2;39;40;34mresult\u001b[0m\u001b[38;2;248;248;242;48;2;39;40;34m)\u001b[0m\u001b[48;2;39;40;34m                                                                                                  \u001b[0m  \n",
              " ───────────────────────────────────────────────────────────────────────────────────────────────────────────────── \n"
            ],
            "text/html": [
              "<pre style=\"white-space:pre;overflow-x:auto;line-height:normal;font-family:Menlo,'DejaVu Sans Mono',consolas,'Courier New',monospace\"> ─ <span style=\"font-weight: bold\">Executing parsed code:</span> ──────────────────────────────────────────────────────────────────────────────────────── \n",
              "  <span style=\"color: #f8f8f2; text-decoration-color: #f8f8f2; background-color: #272822\">result </span><span style=\"color: #ff4689; text-decoration-color: #ff4689; background-color: #272822\">=</span><span style=\"color: #f8f8f2; text-decoration-color: #f8f8f2; background-color: #272822\"> web_search(query</span><span style=\"color: #ff4689; text-decoration-color: #ff4689; background-color: #272822\">=</span><span style=\"color: #e6db74; text-decoration-color: #e6db74; background-color: #272822\">\"Mike new to New York\"</span><span style=\"color: #f8f8f2; text-decoration-color: #f8f8f2; background-color: #272822\">)</span><span style=\"background-color: #272822\">                                                              </span>  \n",
              "  <span style=\"color: #f8f8f2; text-decoration-color: #f8f8f2; background-color: #272822\">print(result)</span><span style=\"background-color: #272822\">                                                                                                  </span>  \n",
              " ───────────────────────────────────────────────────────────────────────────────────────────────────────────────── \n",
              "</pre>\n"
            ]
          },
          "metadata": {}
        },
        {
          "output_type": "display_data",
          "data": {
            "text/plain": [
              "\u001b[1mExecution logs:\u001b[0m\n",
              "## Search Results\n",
              "\n",
              "[Rangers hire Mike Sullivan: What to know about new \n",
              "coach](https://www.usatoday.com/story/sports/nhl/rangers/2025/05/02/mike-sullivan-new-york-rangers-coach-what-to-kn\n",
              "ow/83407796007/)\n",
              "With the New York Rangers announcing Mike Sullivan as their next head coach, here are three things to know about \n",
              "the new bench boss.\n",
              "\n",
              "[Rangers ready to rebound under new coach Sullivan - \n",
              "NHL.com](https://www.nhl.com/news/new-york-rangers-ready-to-rebound-with-new-coach-mike-sullivan)\n",
              "STOCKHOLM --Mika Zibanejad has already had talks with New York Rangers coach Mike Sullivan, and the forward is \n",
              "optimistic about the hire. Sullivan was hired May 2 to replace Peter Laviolette, who ...\n",
              "\n",
              "[Mike Sullivan to be head coach of New York Rangers after parting ways \n",
              "...](https://www.wpxi.com/news/local/mike-sullivan-be-head-coach-new-york-rangers-after-parting-ways-with-penguins/\n",
              "76XRMDOUTJGS7OAICQXAPWROXI/)\n",
              "Just days after parting ways with the Penguins, Mike Sullivan is officially headed to New York City.\n",
              "\n",
              "[Mike Sullivan Named Rangers Head Coach | New York \n",
              "Rangers](https://www.nhl.com/rangers/news/mike-sullivan-named-rangers-head-coach)\n",
              "New York Rangers President and General Manager Chris Drury announced today that the team has named Mike Sullivan \n",
              "the 38th Head Coach in franchise history. \"Mike Sullivan has established himself ...\n",
              "\n",
              "[Mika Zibanejad reacts with excitement to Mike Sullivan joining \n",
              "Rangers](https://timesofindia.indiatimes.com/sports/nhl/news/mika-zibanejad-reacts-with-excitement-to-mike-sullivan\n",
              "-joining-rangers/articleshow/121388509.cms)\n",
              "The New York Rangers have appointed Mike Sullivan as their new head coach. This decision follows a disappointing \n",
              "season. Star player Mika Zibanejad is optimistic about the team's direction under ...\n",
              "\n",
              "[First Call: Reaction in New York to Mike Sullivan's move; Steelers \n",
              "...](https://triblive.com/sports/first-call-reaction-in-new-york-to-mike-sullivans-potential-move-steelers-invite-h\n",
              "uge-offensive-lineman-to-rookie-camp/)\n",
              "Former Penguins coach Mike Sullivan has a new job with the Rangers. New York’s media shares its reaction to the \n",
              "news. Marc-Andre Fleury ends his career with the Minnesota Wild. The Steelers ...\n",
              "\n",
              "[New York Rangers hire Mike Sullivan as head \n",
              "coach](https://bluelinestation.com/new-york-rangers-hire-mike-sullivan-as-head-coach-with-hopes-he-can-guide-team-b\n",
              "ack-to-elite-contention)\n",
              "After announcing the firing of Peter Laviolette on April 19th, the New York Rangers have officially named his \n",
              "replacement to be former Rangers assistant Mike Sullivan.\n",
              "\n",
              "[Mike Sullivan speaks to entire roster as new Rangers \n",
              "coach](https://www.espn.com/nhl/story/_/id/45055726/mike-sullivan-speaks-entire-roster-new-rangers-coach)\n",
              "New Rangers coach Mike Sullivan said his first goal in New York was to speak to every player on the roster.\n",
              "\n",
              "[Rangers usher in new era by hiring Mike Sullivan as next head \n",
              "coach](https://nypost.com/2025/05/02/sports/rangers-usher-in-new-era-by-hiring-mike-sullivan-as-next-head-coach/)\n",
              "The stars have aligned for Mike Sullivan and the Rangers' head coaching job.\n",
              "\n",
              "[Mika Zibanejad's 'excited' reaction to Mike Sullivan \n",
              "hiring](https://clutchpoints.com/nhl/new-york-rangers/rangers-news-mika-zibanejad-excited-mike-sullivan-hiring)\n",
              "New York Rangers forward Mika Zibanejad spoke about the hiring of Mike Sullivan as the team's new head coach.\n",
              "\n",
              "Out: None\n"
            ],
            "text/html": [
              "<pre style=\"white-space:pre;overflow-x:auto;line-height:normal;font-family:Menlo,'DejaVu Sans Mono',consolas,'Courier New',monospace\"><span style=\"font-weight: bold\">Execution logs:</span>\n",
              "## Search Results\n",
              "\n",
              "[Rangers hire Mike Sullivan: What to know about new \n",
              "coach](https://www.usatoday.com/story/sports/nhl/rangers/2025/05/02/mike-sullivan-new-york-rangers-coach-what-to-kn\n",
              "ow/83407796007/)\n",
              "With the New York Rangers announcing Mike Sullivan as their next head coach, here are three things to know about \n",
              "the new bench boss.\n",
              "\n",
              "[Rangers ready to rebound under new coach Sullivan - \n",
              "NHL.com](https://www.nhl.com/news/new-york-rangers-ready-to-rebound-with-new-coach-mike-sullivan)\n",
              "STOCKHOLM --Mika Zibanejad has already had talks with New York Rangers coach Mike Sullivan, and the forward is \n",
              "optimistic about the hire. Sullivan was hired May 2 to replace Peter Laviolette, who ...\n",
              "\n",
              "[Mike Sullivan to be head coach of New York Rangers after parting ways \n",
              "...](https://www.wpxi.com/news/local/mike-sullivan-be-head-coach-new-york-rangers-after-parting-ways-with-penguins/\n",
              "76XRMDOUTJGS7OAICQXAPWROXI/)\n",
              "Just days after parting ways with the Penguins, Mike Sullivan is officially headed to New York City.\n",
              "\n",
              "[Mike Sullivan Named Rangers Head Coach | New York \n",
              "Rangers](https://www.nhl.com/rangers/news/mike-sullivan-named-rangers-head-coach)\n",
              "New York Rangers President and General Manager Chris Drury announced today that the team has named Mike Sullivan \n",
              "the 38th Head Coach in franchise history. \"Mike Sullivan has established himself ...\n",
              "\n",
              "[Mika Zibanejad reacts with excitement to Mike Sullivan joining \n",
              "Rangers](https://timesofindia.indiatimes.com/sports/nhl/news/mika-zibanejad-reacts-with-excitement-to-mike-sullivan\n",
              "-joining-rangers/articleshow/121388509.cms)\n",
              "The New York Rangers have appointed Mike Sullivan as their new head coach. This decision follows a disappointing \n",
              "season. Star player Mika Zibanejad is optimistic about the team's direction under ...\n",
              "\n",
              "[First Call: Reaction in New York to Mike Sullivan's move; Steelers \n",
              "...](https://triblive.com/sports/first-call-reaction-in-new-york-to-mike-sullivans-potential-move-steelers-invite-h\n",
              "uge-offensive-lineman-to-rookie-camp/)\n",
              "Former Penguins coach Mike Sullivan has a new job with the Rangers. New York’s media shares its reaction to the \n",
              "news. Marc-Andre Fleury ends his career with the Minnesota Wild. The Steelers ...\n",
              "\n",
              "[New York Rangers hire Mike Sullivan as head \n",
              "coach](https://bluelinestation.com/new-york-rangers-hire-mike-sullivan-as-head-coach-with-hopes-he-can-guide-team-b\n",
              "ack-to-elite-contention)\n",
              "After announcing the firing of Peter Laviolette on April 19th, the New York Rangers have officially named his \n",
              "replacement to be former Rangers assistant Mike Sullivan.\n",
              "\n",
              "[Mike Sullivan speaks to entire roster as new Rangers \n",
              "coach](https://www.espn.com/nhl/story/_/id/45055726/mike-sullivan-speaks-entire-roster-new-rangers-coach)\n",
              "New Rangers coach Mike Sullivan said his first goal in New York was to speak to every player on the roster.\n",
              "\n",
              "[Rangers usher in new era by hiring Mike Sullivan as next head \n",
              "coach](https://nypost.com/2025/05/02/sports/rangers-usher-in-new-era-by-hiring-mike-sullivan-as-next-head-coach/)\n",
              "The stars have aligned for Mike Sullivan and the Rangers' head coaching job.\n",
              "\n",
              "[Mika Zibanejad's 'excited' reaction to Mike Sullivan \n",
              "hiring](https://clutchpoints.com/nhl/new-york-rangers/rangers-news-mika-zibanejad-excited-mike-sullivan-hiring)\n",
              "New York Rangers forward Mika Zibanejad spoke about the hiring of Mike Sullivan as the team's new head coach.\n",
              "\n",
              "Out: None\n",
              "</pre>\n"
            ]
          },
          "metadata": {}
        },
        {
          "output_type": "display_data",
          "data": {
            "text/plain": [
              "\u001b[2m[Step 3: Duration 2.82 seconds| Input tokens: 7,881 | Output tokens: 258]\u001b[0m\n"
            ],
            "text/html": [
              "<pre style=\"white-space:pre;overflow-x:auto;line-height:normal;font-family:Menlo,'DejaVu Sans Mono',consolas,'Courier New',monospace\"><span style=\"color: #7f7f7f; text-decoration-color: #7f7f7f\">[Step 3: Duration 2.82 seconds| Input tokens: 7,881 | Output tokens: 258]</span>\n",
              "</pre>\n"
            ]
          },
          "metadata": {}
        },
        {
          "output_type": "display_data",
          "data": {
            "text/plain": [
              "\u001b[38;2;212;183;2m━━━━━━━━━━━━━━━━━━━━━━━━━━━━━━━━━━━━━━━━━━━━━━━━━━━━━ \u001b[0m\u001b[1mStep \u001b[0m\u001b[1;36m4\u001b[0m\u001b[38;2;212;183;2m ━━━━━━━━━━━━━━━━━━━━━━━━━━━━━━━━━━━━━━━━━━━━━━━━━━━━━━\u001b[0m\n"
            ],
            "text/html": [
              "<pre style=\"white-space:pre;overflow-x:auto;line-height:normal;font-family:Menlo,'DejaVu Sans Mono',consolas,'Courier New',monospace\"><span style=\"color: #d4b702; text-decoration-color: #d4b702\">━━━━━━━━━━━━━━━━━━━━━━━━━━━━━━━━━━━━━━━━━━━━━━━━━━━━━ </span><span style=\"font-weight: bold\">Step </span><span style=\"color: #008080; text-decoration-color: #008080; font-weight: bold\">4</span><span style=\"color: #d4b702; text-decoration-color: #d4b702\"> ━━━━━━━━━━━━━━━━━━━━━━━━━━━━━━━━━━━━━━━━━━━━━━━━━━━━━━</span>\n",
              "</pre>\n"
            ]
          },
          "metadata": {}
        },
        {
          "output_type": "display_data",
          "data": {
            "text/plain": [
              " ─ \u001b[1mExecuting parsed code:\u001b[0m ──────────────────────────────────────────────────────────────────────────────────────── \n",
              "  \u001b[38;2;248;248;242;48;2;39;40;34mfinal_answer\u001b[0m\u001b[38;2;248;248;242;48;2;39;40;34m(\u001b[0m\u001b[38;2;230;219;116;48;2;39;40;34m\"\u001b[0m\u001b[38;2;230;219;116;48;2;39;40;34mMike is new to New York and may not have had time to establish a social network yet.\u001b[0m\u001b[38;2;230;219;116;48;2;39;40;34m\"\u001b[0m\u001b[38;2;248;248;242;48;2;39;40;34m)\u001b[0m\u001b[48;2;39;40;34m           \u001b[0m  \n",
              " ───────────────────────────────────────────────────────────────────────────────────────────────────────────────── \n"
            ],
            "text/html": [
              "<pre style=\"white-space:pre;overflow-x:auto;line-height:normal;font-family:Menlo,'DejaVu Sans Mono',consolas,'Courier New',monospace\"> ─ <span style=\"font-weight: bold\">Executing parsed code:</span> ──────────────────────────────────────────────────────────────────────────────────────── \n",
              "  <span style=\"color: #f8f8f2; text-decoration-color: #f8f8f2; background-color: #272822\">final_answer(</span><span style=\"color: #e6db74; text-decoration-color: #e6db74; background-color: #272822\">\"Mike is new to New York and may not have had time to establish a social network yet.\"</span><span style=\"color: #f8f8f2; text-decoration-color: #f8f8f2; background-color: #272822\">)</span><span style=\"background-color: #272822\">           </span>  \n",
              " ───────────────────────────────────────────────────────────────────────────────────────────────────────────────── \n",
              "</pre>\n"
            ]
          },
          "metadata": {}
        },
        {
          "output_type": "display_data",
          "data": {
            "text/plain": [
              "\u001b[1;38;2;212;183;2mOut - Final answer: Mike is new to New York and may not have had time to establish a social network yet.\u001b[0m\n"
            ],
            "text/html": [
              "<pre style=\"white-space:pre;overflow-x:auto;line-height:normal;font-family:Menlo,'DejaVu Sans Mono',consolas,'Courier New',monospace\"><span style=\"color: #d4b702; text-decoration-color: #d4b702; font-weight: bold\">Out - Final answer: Mike is new to New York and may not have had time to establish a social network yet.</span>\n",
              "</pre>\n"
            ]
          },
          "metadata": {}
        },
        {
          "output_type": "display_data",
          "data": {
            "text/plain": [
              "\u001b[2m[Step 4: Duration 4.96 seconds| Input tokens: 12,252 | Output tokens: 354]\u001b[0m\n"
            ],
            "text/html": [
              "<pre style=\"white-space:pre;overflow-x:auto;line-height:normal;font-family:Menlo,'DejaVu Sans Mono',consolas,'Courier New',monospace\"><span style=\"color: #7f7f7f; text-decoration-color: #7f7f7f\">[Step 4: Duration 4.96 seconds| Input tokens: 12,252 | Output tokens: 354]</span>\n",
              "</pre>\n"
            ]
          },
          "metadata": {}
        },
        {
          "output_type": "execute_result",
          "data": {
            "text/plain": [
              "'Mike is new to New York and may not have had time to establish a social network yet.'"
            ],
            "application/vnd.google.colaboratory.intrinsic+json": {
              "type": "string"
            }
          },
          "metadata": {},
          "execution_count": 6
        }
      ],
      "source": [
        "from smolagents import CodeAgent, InferenceClientModel\n",
        "\n",
        "model_id = \"meta-llama/Llama-3.3-70B-Instruct\"\n",
        "\n",
        "agent = CodeAgent(tools=[], model=InferenceClientModel(model_id=model_id), add_base_tools=True)\n",
        "\n",
        "agent.run(\n",
        "    \"Why does Mike not know many people in New York?\",\n",
        "    additional_args={\"mp3_sound_file_url\":'https://huggingface.co/datasets/huggingface/documentation-images/resolve/main/transformers/recording.mp3'}\n",
        ")"
      ]
    },
    {
      "cell_type": "markdown",
      "metadata": {
        "id": "MdcvS-iKohFk"
      },
      "source": [
        "For instance, you can use this `additional_args` argument to pass images or strings that you want your agent to leverage."
      ]
    },
    {
      "cell_type": "markdown",
      "metadata": {
        "id": "yL-2GfQJohFk"
      },
      "source": [
        "## How to debug your agent"
      ]
    },
    {
      "cell_type": "markdown",
      "metadata": {
        "id": "DfN9L86cohFk"
      },
      "source": [
        "### 1. Use a stronger LLM"
      ]
    },
    {
      "cell_type": "markdown",
      "metadata": {
        "id": "5AxWgvPJohFk"
      },
      "source": [
        "In an agentic workflows, some of the errors are actual errors, some other are the fault of your LLM engine not reasoning properly.\n",
        "For instance, consider this trace for an `CodeAgent` that I asked to create a car picture:\n",
        "```\n",
        "==================================================================================================== New task ====================================================================================================\n",
        "Make me a cool car picture\n",
        "──────────────────────────────────────────────────────────────────────────────────────────────────── New step ────────────────────────────────────────────────────────────────────────────────────────────────────\n",
        "Agent is executing the code below: ───────────────────────────────────────────────────────────────────────────────────────────────────────────────────────────────────────────────────────────────────────────────\n",
        "image_generator(prompt=\"A cool, futuristic sports car with LED headlights, aerodynamic design, and vibrant color, high-res, photorealistic\")\n",
        "──────────────────────────────────────────────────────────────────────────────────────────────────────────────────────────────────────────────────────────────────────────────────────────────────────────────────\n",
        "\n",
        "Last output from code snippet: ───────────────────────────────────────────────────────────────────────────────────────────────────────────────────────────────────────────────────────────────────────────────────\n",
        "/var/folders/6m/9b1tts6d5w960j80wbw9tx3m0000gn/T/tmpx09qfsdd/652f0007-3ee9-44e2-94ac-90dae6bb89a4.png\n",
        "Step 1:\n",
        "\n",
        "- Time taken: 16.35 seconds\n",
        "- Input tokens: 1,383\n",
        "- Output tokens: 77\n",
        "──────────────────────────────────────────────────────────────────────────────────────────────────── New step ────────────────────────────────────────────────────────────────────────────────────────────────────\n",
        "Agent is executing the code below: ───────────────────────────────────────────────────────────────────────────────────────────────────────────────────────────────────────────────────────────────────────────────\n",
        "final_answer(\"/var/folders/6m/9b1tts6d5w960j80wbw9tx3m0000gn/T/tmpx09qfsdd/652f0007-3ee9-44e2-94ac-90dae6bb89a4.png\")\n",
        "──────────────────────────────────────────────────────────────────────────────────────────────────────────────────────────────────────────────────────────────────────────────────────────────────────────────────\n",
        "Print outputs:\n",
        "\n",
        "Last output from code snippet: ───────────────────────────────────────────────────────────────────────────────────────────────────────────────────────────────────────────────────────────────────────────────────\n",
        "/var/folders/6m/9b1tts6d5w960j80wbw9tx3m0000gn/T/tmpx09qfsdd/652f0007-3ee9-44e2-94ac-90dae6bb89a4.png\n",
        "Final answer:\n",
        "/var/folders/6m/9b1tts6d5w960j80wbw9tx3m0000gn/T/tmpx09qfsdd/652f0007-3ee9-44e2-94ac-90dae6bb89a4.png\n",
        "```\n",
        "The user sees, instead of an image being returned, a path being returned to them.\n",
        "It could look like a bug from the system, but actually the agentic system didn't cause the error: it's just that the LLM brain did the mistake of not saving the image output into a variable.\n",
        "Thus it cannot access the image again except by leveraging the path that was logged while saving the image, so it returns the path instead of an image.\n",
        "\n",
        "The first step to debugging your agent is thus \"Use a more powerful LLM\". Alternatives like `Qwen2/5-72B-Instruct` wouldn't have made that mistake."
      ]
    },
    {
      "cell_type": "markdown",
      "metadata": {
        "id": "VRJwt3W-ohFl"
      },
      "source": [
        "### 2. Provide more guidance / more information"
      ]
    },
    {
      "cell_type": "markdown",
      "metadata": {
        "id": "wywwESXtohFl"
      },
      "source": [
        "You can also use less powerful models, provided you guide them more effectively.\n",
        "\n",
        "Put yourself in the shoes of your model: if you were the model solving the task, would you struggle with the information available to you (from the system prompt + task formulation + tool description) ?\n",
        "\n",
        "Would you need some added clarifications?\n",
        "\n",
        "To provide extra information, we do not recommend to change the system prompt right away: the default system prompt has many adjustments that you do not want to mess up except if you understand the prompt very well.\n",
        "Better ways to guide your LLM engine are:\n",
        "- If it's about the task to solve: add all these details to the task. The task could be 100s of pages long.\n",
        "- If it's about how to use tools: the description attribute of your tools."
      ]
    },
    {
      "cell_type": "markdown",
      "metadata": {
        "id": "FSJJZYNpohFl"
      },
      "source": [
        "### 3. Change the system prompt (generally not advised)"
      ]
    },
    {
      "cell_type": "markdown",
      "metadata": {
        "id": "de_4vosVohFl"
      },
      "source": [
        "If above clarifications are not sufficient, you can change the system prompt.\n",
        "\n",
        "Let's see how it works. For example, let us check the default system prompt for the [CodeAgent](https://huggingface.co/docs/smolagents/main/en/reference/agents#smolagents.CodeAgent) (below version is shortened by skipping zero-shot examples)."
      ]
    },
    {
      "cell_type": "code",
      "execution_count": 7,
      "metadata": {
        "id": "CM9aQtNDohFl",
        "outputId": "d784707a-c16f-425c-d471-a5d6ba0192ed",
        "colab": {
          "base_uri": "https://localhost:8080/"
        }
      },
      "outputs": [
        {
          "output_type": "stream",
          "name": "stdout",
          "text": [
            "You are an expert assistant who can solve any task using code blobs. You will be given a task to solve as best you can.\n",
            "To do so, you have been given access to a list of tools: these tools are basically Python functions which you can call with code.\n",
            "To solve the task, you must plan forward to proceed in a series of steps, in a cycle of 'Thought:', 'Code:', and 'Observation:' sequences.\n",
            "\n",
            "At each step, in the 'Thought:' sequence, you should first explain your reasoning towards solving the task and the tools that you want to use.\n",
            "Then in the 'Code:' sequence, you should write the code in simple Python. The code sequence must end with '<end_code>' sequence.\n",
            "During each intermediate step, you can use 'print()' to save whatever important information you will then need.\n",
            "These print outputs will then appear in the 'Observation:' field, which will be available as input for the next step.\n",
            "In the end you have to return a final answer using the `final_answer` tool.\n",
            "\n",
            "Here are a few examples using notional tools:\n",
            "---\n",
            "Task: \"Generate an image of the oldest person in this document.\"\n",
            "\n",
            "Thought: I will proceed step by step and use the following tools: `document_qa` to find the oldest person in the document, then `image_generator` to generate an image according to the answer.\n",
            "Code:\n",
            "```py\n",
            "answer = document_qa(document=document, question=\"Who is the oldest person mentioned?\")\n",
            "print(answer)\n",
            "```<end_code>\n",
            "Observation: \"The oldest person in the document is John Doe, a 55 year old lumberjack living in Newfoundland.\"\n",
            "\n",
            "Thought: I will now generate an image showcasing the oldest person.\n",
            "Code:\n",
            "```py\n",
            "image = image_generator(\"A portrait of John Doe, a 55-year-old man living in Canada.\")\n",
            "final_answer(image)\n",
            "```<end_code>\n",
            "\n",
            "---\n",
            "Task: \"What is the result of the following operation: 5 + 3 + 1294.678?\"\n",
            "\n",
            "Thought: I will use python code to compute the result of the operation and then return the final answer using the `final_answer` tool\n",
            "Code:\n",
            "```py\n",
            "result = 5 + 3 + 1294.678\n",
            "final_answer(result)\n",
            "```<end_code>\n",
            "\n",
            "---\n",
            "Task:\n",
            "\"Answer the question in the variable `question` about the image stored in the variable `image`. The question is in French.\n",
            "You have been provided with these additional arguments, that you can access using the keys as variables in your python code:\n",
            "{'question': 'Quel est l'animal sur l'image?', 'image': 'path/to/image.jpg'}\"\n",
            "\n",
            "Thought: I will use the following tools: `translator` to translate the question into English and then `image_qa` to answer the question on the input image.\n",
            "Code:\n",
            "```py\n",
            "translated_question = translator(question=question, src_lang=\"French\", tgt_lang=\"English\")\n",
            "print(f\"The translated question is {translated_question}.\")\n",
            "answer = image_qa(image=image, question=translated_question)\n",
            "final_answer(f\"The answer is {answer}\")\n",
            "```<end_code>\n",
            "\n",
            "---\n",
            "Task:\n",
            "In a 1979 interview, Stanislaus Ulam discusses with Martin Sherwin about other great physicists of his time, including Oppenheimer.\n",
            "What does he say was the consequence of Einstein learning too much math on his creativity, in one word?\n",
            "\n",
            "Thought: I need to find and read the 1979 interview of Stanislaus Ulam with Martin Sherwin.\n",
            "Code:\n",
            "```py\n",
            "pages = search(query=\"1979 interview Stanislaus Ulam Martin Sherwin physicists Einstein\")\n",
            "print(pages)\n",
            "```<end_code>\n",
            "Observation:\n",
            "No result found for query \"1979 interview Stanislaus Ulam Martin Sherwin physicists Einstein\".\n",
            "\n",
            "Thought: The query was maybe too restrictive and did not find any results. Let's try again with a broader query.\n",
            "Code:\n",
            "```py\n",
            "pages = search(query=\"1979 interview Stanislaus Ulam\")\n",
            "print(pages)\n",
            "```<end_code>\n",
            "Observation:\n",
            "Found 6 pages:\n",
            "[Stanislaus Ulam 1979 interview](https://ahf.nuclearmuseum.org/voices/oral-histories/stanislaus-ulams-interview-1979/)\n",
            "\n",
            "[Ulam discusses Manhattan Project](https://ahf.nuclearmuseum.org/manhattan-project/ulam-manhattan-project/)\n",
            "\n",
            "(truncated)\n",
            "\n",
            "Thought: I will read the first 2 pages to know more.\n",
            "Code:\n",
            "```py\n",
            "for url in [\"https://ahf.nuclearmuseum.org/voices/oral-histories/stanislaus-ulams-interview-1979/\", \"https://ahf.nuclearmuseum.org/manhattan-project/ulam-manhattan-project/\"]:\n",
            "    whole_page = visit_webpage(url)\n",
            "    print(whole_page)\n",
            "    print(\"\\n\" + \"=\"*80 + \"\\n\")  # Print separator between pages\n",
            "```<end_code>\n",
            "Observation:\n",
            "Manhattan Project Locations:\n",
            "Los Alamos, NM\n",
            "Stanislaus Ulam was a Polish-American mathematician. He worked on the Manhattan Project at Los Alamos and later helped design the hydrogen bomb. In this interview, he discusses his work at\n",
            "(truncated)\n",
            "\n",
            "Thought: I now have the final answer: from the webpages visited, Stanislaus Ulam says of Einstein: \"He learned too much mathematics and sort of diminished, it seems to me personally, it seems to me his purely physics creativity.\" Let's answer in one word.\n",
            "Code:\n",
            "```py\n",
            "final_answer(\"diminished\")\n",
            "```<end_code>\n",
            "\n",
            "---\n",
            "Task: \"Which city has the highest population: Guangzhou or Shanghai?\"\n",
            "\n",
            "Thought: I need to get the populations for both cities and compare them: I will use the tool `search` to get the population of both cities.\n",
            "Code:\n",
            "```py\n",
            "for city in [\"Guangzhou\", \"Shanghai\"]:\n",
            "    print(f\"Population {city}:\", search(f\"{city} population\")\n",
            "```<end_code>\n",
            "Observation:\n",
            "Population Guangzhou: ['Guangzhou has a population of 15 million inhabitants as of 2021.']\n",
            "Population Shanghai: '26 million (2019)'\n",
            "\n",
            "Thought: Now I know that Shanghai has the highest population.\n",
            "Code:\n",
            "```py\n",
            "final_answer(\"Shanghai\")\n",
            "```<end_code>\n",
            "\n",
            "---\n",
            "Task: \"What is the current age of the pope, raised to the power 0.36?\"\n",
            "\n",
            "Thought: I will use the tool `wiki` to get the age of the pope, and confirm that with a web search.\n",
            "Code:\n",
            "```py\n",
            "pope_age_wiki = wiki(query=\"current pope age\")\n",
            "print(\"Pope age as per wikipedia:\", pope_age_wiki)\n",
            "pope_age_search = web_search(query=\"current pope age\")\n",
            "print(\"Pope age as per google search:\", pope_age_search)\n",
            "```<end_code>\n",
            "Observation:\n",
            "Pope age: \"The pope Francis is currently 88 years old.\"\n",
            "\n",
            "Thought: I know that the pope is 88 years old. Let's compute the result using python code.\n",
            "Code:\n",
            "```py\n",
            "pope_current_age = 88 ** 0.36\n",
            "final_answer(pope_current_age)\n",
            "```<end_code>\n",
            "\n",
            "Above example were using notional tools that might not exist for you. On top of performing computations in the Python code snippets that you create, you only have access to these tools, behaving like regular python functions:\n",
            "```python\n",
            "{%- for tool in tools.values() %}\n",
            "def {{ tool.name }}({% for arg_name, arg_info in tool.inputs.items() %}{{ arg_name }}: {{ arg_info.type }}{% if not loop.last %}, {% endif %}{% endfor %}) -> {{tool.output_type}}:\n",
            "    \"\"\"{{ tool.description }}\n",
            "\n",
            "    Args:\n",
            "    {%- for arg_name, arg_info in tool.inputs.items() %}\n",
            "        {{ arg_name }}: {{ arg_info.description }}\n",
            "    {%- endfor %}\n",
            "    \"\"\"\n",
            "{% endfor %}\n",
            "```\n",
            "\n",
            "{%- if managed_agents and managed_agents.values() | list %}\n",
            "You can also give tasks to team members.\n",
            "Calling a team member works the same as for calling a tool: simply, the only argument you can give in the call is 'task'.\n",
            "Given that this team member is a real human, you should be very verbose in your task, it should be a long string providing informations as detailed as necessary.\n",
            "Here is a list of the team members that you can call:\n",
            "```python\n",
            "{%- for agent in managed_agents.values() %}\n",
            "def {{ agent.name }}(\"Your query goes here.\") -> str:\n",
            "    \"\"\"{{ agent.description }}\"\"\"\n",
            "{% endfor %}\n",
            "```\n",
            "{%- endif %}\n",
            "\n",
            "Here are the rules you should always follow to solve your task:\n",
            "1. Always provide a 'Thought:' sequence, and a 'Code:\\n```py' sequence ending with '```<end_code>' sequence, else you will fail.\n",
            "2. Use only variables that you have defined!\n",
            "3. Always use the right arguments for the tools. DO NOT pass the arguments as a dict as in 'answer = wiki({'query': \"What is the place where James Bond lives?\"})', but use the arguments directly as in 'answer = wiki(query=\"What is the place where James Bond lives?\")'.\n",
            "4. Take care to not chain too many sequential tool calls in the same code block, especially when the output format is unpredictable. For instance, a call to search has an unpredictable return format, so do not have another tool call that depends on its output in the same block: rather output results with print() to use them in the next block.\n",
            "5. Call a tool only when needed, and never re-do a tool call that you previously did with the exact same parameters.\n",
            "6. Don't name any new variable with the same name as a tool: for instance don't name a variable 'final_answer'.\n",
            "7. Never create any notional variables in our code, as having these in your logs will derail you from the true variables.\n",
            "8. You can use imports in your code, but only from the following list of modules: {{authorized_imports}}\n",
            "9. The state persists between code executions: so if in one step you've created variables or imported modules, these will all persist.\n",
            "10. Don't give up! You're in charge of solving the task, not providing directions to solve it.\n",
            "\n",
            "Now Begin!\n"
          ]
        }
      ],
      "source": [
        "print(agent.prompt_templates[\"system_prompt\"])"
      ]
    },
    {
      "cell_type": "markdown",
      "metadata": {
        "id": "HHRAKj5hohFm"
      },
      "source": [
        "Here is what you get:\n",
        "```text\n",
        "You are an expert assistant who can solve any task using code blobs. You will be given a task to solve as best you can.\n",
        "To do so, you have been given access to a list of tools: these tools are basically Python functions which you can call with code.\n",
        "To solve the task, you must plan forward to proceed in a series of steps, in a cycle of 'Thought:', 'Code:', and 'Observation:' sequences.\n",
        "\n",
        "At each step, in the 'Thought:' sequence, you should first explain your reasoning towards solving the task and the tools that you want to use.\n",
        "Then in the 'Code:' sequence, you should write the code in simple Python. The code sequence must end with '<end_code>' sequence.\n",
        "During each intermediate step, you can use 'print()' to save whatever important information you will then need.\n",
        "These print outputs will then appear in the 'Observation:' field, which will be available as input for the next step.\n",
        "In the end you have to return a final answer using the `final_answer` tool.\n",
        "\n",
        "Here are a few examples using notional tools:\n",
        "---\n",
        "Task: \"Generate an image of the oldest person in this document.\"\n",
        "\n",
        "Thought: I will proceed step by step and use the following tools: `document_qa` to find the oldest person in the document, then `image_generator` to generate an image according to the answer.\n",
        "Code:"
      ]
    },
    {
      "cell_type": "code",
      "execution_count": 8,
      "metadata": {
        "id": "p1Usrv_WohFm",
        "outputId": "1f606e86-25f9-442e-9581-8e0384d7b6f6",
        "colab": {
          "base_uri": "https://localhost:8080/",
          "height": 124
        }
      },
      "outputs": [
        {
          "output_type": "error",
          "ename": "SyntaxError",
          "evalue": "unterminated string literal (detected at line 23) (<ipython-input-8-200ff63c5e3c>, line 23)",
          "traceback": [
            "\u001b[0;36m  File \u001b[0;32m\"<ipython-input-8-200ff63c5e3c>\"\u001b[0;36m, line \u001b[0;32m23\u001b[0m\n\u001b[0;31m    \"Answer the question in the variable `question` about the image stored in the variable `image`. The question is in French.\u001b[0m\n\u001b[0m    ^\u001b[0m\n\u001b[0;31mSyntaxError\u001b[0m\u001b[0;31m:\u001b[0m unterminated string literal (detected at line 23)\n"
          ]
        }
      ],
      "source": [
        "answer = document_qa(document=document, question=\"Who is the oldest person mentioned?\")\n",
        "print(answer)\n",
        "```<end_code>\n",
        "Observation: \"The oldest person in the document is John Doe, a 55 year old lumberjack living in Newfoundland.\"\n",
        "\n",
        "Thought: I will now generate an image showcasing the oldest person.\n",
        "Code:\n",
        "image = image_generator(\"A portrait of John Doe, a 55-year-old man living in Canada.\")\n",
        "final_answer(image)\n",
        "```<end_code>\n",
        "\n",
        "---\n",
        "Task: \"What is the result of the following operation: 5 + 3 + 1294.678?\"\n",
        "\n",
        "Thought: I will use python code to compute the result of the operation and then return the final answer using the `final_answer` tool\n",
        "Code:\n",
        "result = 5 + 3 + 1294.678\n",
        "final_answer(result)\n",
        "```<end_code>\n",
        "\n",
        "---\n",
        "Task:\n",
        "\"Answer the question in the variable `question` about the image stored in the variable `image`. The question is in French.\n",
        "You have been provided with these additional arguments, that you can access using the keys as variables in your python code:\n",
        "{'question': 'Quel est l'animal sur l'image?', 'image': 'path/to/image.jpg'}\"\n",
        "\n",
        "Thought: I will use the following tools: `translator` to translate the question into English and then `image_qa` to answer the question on the input image.\n",
        "Code:\n",
        "translated_question = translator(question=question, src_lang=\"French\", tgt_lang=\"English\")\n",
        "print(f\"The translated question is {translated_question}.\")\n",
        "answer = image_qa(image=image, question=translated_question)\n",
        "final_answer(f\"The answer is {answer}\")\n",
        "```<end_code>\n",
        "\n",
        "---\n",
        "Task:\n",
        "In a 1979 interview, Stanislaus Ulam discusses with Martin Sherwin about other great physicists of his time, including Oppenheimer.\n",
        "What does he say was the consequence of Einstein learning too much math on his creativity, in one word?\n",
        "\n",
        "Thought: I need to find and read the 1979 interview of Stanislaus Ulam with Martin Sherwin.\n",
        "Code:\n",
        "pages = search(query=\"1979 interview Stanislaus Ulam Martin Sherwin physicists Einstein\")\n",
        "print(pages)\n",
        "```<end_code>\n",
        "Observation:\n",
        "No result found for query \"1979 interview Stanislaus Ulam Martin Sherwin physicists Einstein\".\n",
        "\n",
        "Thought: The query was maybe too restrictive and did not find any results. Let's try again with a broader query.\n",
        "Code:\n",
        "pages = search(query=\"1979 interview Stanislaus Ulam\")\n",
        "print(pages)\n",
        "```<end_code>\n",
        "Observation:\n",
        "Found 6 pages:\n",
        "[Stanislaus Ulam 1979 interview](https://ahf.nuclearmuseum.org/voices/oral-histories/stanislaus-ulams-interview-1979/)\n",
        "\n",
        "[Ulam discusses Manhattan Project](https://ahf.nuclearmuseum.org/manhattan-project/ulam-manhattan-project/)\n",
        "\n",
        "(truncated)\n",
        "\n",
        "Thought: I will read the first 2 pages to know more.\n",
        "Code:\n",
        "for url in [\"https://ahf.nuclearmuseum.org/voices/oral-histories/stanislaus-ulams-interview-1979/\", \"https://ahf.nuclearmuseum.org/manhattan-project/ulam-manhattan-project/\"]:\n",
        "    whole_page = visit_webpage(url)\n",
        "    print(whole_page)\n",
        "    print(\"\\n\" + \"=\"*80 + \"\\n\")  # Print separator between pages\n",
        "```<end_code>\n",
        "Observation:\n",
        "Manhattan Project Locations:\n",
        "Los Alamos, NM\n",
        "Stanislaus Ulam was a Polish-American mathematician. He worked on the Manhattan Project at Los Alamos and later helped design the hydrogen bomb. In this interview, he discusses his work at\n",
        "(truncated)\n",
        "\n",
        "Thought: I now have the final answer: from the webpages visited, Stanislaus Ulam says of Einstein: \"He learned too much mathematics and sort of diminished, it seems to me personally, it seems to me his purely physics creativity.\" Let's answer in one word.\n",
        "Code:\n",
        "final_answer(\"diminished\")\n",
        "```<end_code>\n",
        "\n",
        "---\n",
        "Task: \"Which city has the highest population: Guangzhou or Shanghai?\"\n",
        "\n",
        "Thought: I need to get the populations for both cities and compare them: I will use the tool `search` to get the population of both cities.\n",
        "Code:\n",
        "for city in [\"Guangzhou\", \"Shanghai\"]:\n",
        "    print(f\"Population {city}:\", search(f\"{city} population\")\n",
        "```<end_code>\n",
        "Observation:\n",
        "Population Guangzhou: ['Guangzhou has a population of 15 million inhabitants as of 2021.']\n",
        "Population Shanghai: '26 million (2019)'\n",
        "\n",
        "Thought: Now I know that Shanghai has the highest population.\n",
        "Code:\n",
        "final_answer(\"Shanghai\")\n",
        "```<end_code>\n",
        "\n",
        "---\n",
        "Task: \"What is the current age of the pope, raised to the power 0.36?\"\n",
        "\n",
        "Thought: I will use the tool `wiki` to get the age of the pope, and confirm that with a web search.\n",
        "Code:\n",
        "pope_age_wiki = wiki(query=\"current pope age\")\n",
        "print(\"Pope age as per wikipedia:\", pope_age_wiki)\n",
        "pope_age_search = web_search(query=\"current pope age\")\n",
        "print(\"Pope age as per google search:\", pope_age_search)\n",
        "```<end_code>\n",
        "Observation:\n",
        "Pope age: \"The pope Francis is currently 88 years old.\"\n",
        "\n",
        "Thought: I know that the pope is 88 years old. Let's compute the result using python code.\n",
        "Code:\n",
        "pope_current_age = 88 ** 0.36\n",
        "final_answer(pope_current_age)\n",
        "```<end_code>\n",
        "\n",
        "Above example were using notional tools that might not exist for you. On top of performing computations in the Python code snippets that you create, you only have access to these tools:\n",
        "{%- for tool in tools.values() %}\n",
        "- {{ tool.name }}: {{ tool.description }}\n",
        "    Takes inputs: {{tool.inputs}}\n",
        "    Returns an output of type: {{tool.output_type}}\n",
        "{%- endfor %}\n",
        "\n",
        "{%- if managed_agents and managed_agents.values() | list %}\n",
        "You can also give tasks to team members.\n",
        "Calling a team member works the same as for calling a tool: simply, the only argument you can give in the call is 'task', a long string explaining your task.\n",
        "Given that this team member is a real human, you should be very verbose in your task.\n",
        "Here is a list of the team members that you can call:\n",
        "{%- for agent in managed_agents.values() %}\n",
        "- {{ agent.name }}: {{ agent.description }}\n",
        "{%- endfor %}\n",
        "{%- else %}\n",
        "{%- endif %}\n",
        "\n",
        "Here are the rules you should always follow to solve your task:\n",
        "1. Always provide a 'Thought:' sequence, and a 'Code:\\n```py' sequence ending with '```<end_code>' sequence, else you will fail.\n",
        "2. Use only variables that you have defined!\n",
        "3. Always use the right arguments for the tools. DO NOT pass the arguments as a dict as in 'answer = wiki({'query': \"What is the place where James Bond lives?\"})', but use the arguments directly as in 'answer = wiki(query=\"What is the place where James Bond lives?\")'.\n",
        "4. Take care to not chain too many sequential tool calls in the same code block, especially when the output format is unpredictable. For instance, a call to search has an unpredictable return format, so do not have another tool call that depends on its output in the same block: rather output results with print() to use them in the next block.\n",
        "5. Call a tool only when needed, and never re-do a tool call that you previously did with the exact same parameters.\n",
        "6. Don't name any new variable with the same name as a tool: for instance don't name a variable 'final_answer'.\n",
        "7. Never create any notional variables in our code, as having these in your logs will derail you from the true variables.\n",
        "8. You can use imports in your code, but only from the following list of modules: {{authorized_imports}}\n",
        "9. The state persists between code executions: so if in one step you've created variables or imported modules, these will all persist.\n",
        "10. Don't give up! You're in charge of solving the task, not providing directions to solve it.\n",
        "\n",
        "Now Begin! If you solve the task correctly, you will receive a reward of $1,000,000."
      ]
    },
    {
      "cell_type": "markdown",
      "metadata": {
        "id": "zVhPYcd6ohFm"
      },
      "source": [
        "As you can see, there are placeholders like `\"{{ tool.description }}\"`: these will be used upon agent initialization to insert certain automatically generated descriptions of tools or managed agents.\n",
        "\n",
        "So while you can overwrite this system prompt template by passing your custom prompt as an argument to the `system_prompt` parameter, your new system prompt can contain the following placeholders:\n",
        "- To insert tool descriptions:\n",
        "  ```\n",
        "  {%- for tool in tools.values() %}\n",
        "  - {{ tool.name }}: {{ tool.description }}\n",
        "      Takes inputs: {{tool.inputs}}\n",
        "      Returns an output of type: {{tool.output_type}}\n",
        "  {%- endfor %}\n",
        "  ```\n",
        "- To insert the descriptions for managed agents if there are any:\n",
        "  ```\n",
        "  {%- if managed_agents and managed_agents.values() | list %}\n",
        "  You can also give tasks to team members.\n",
        "  Calling a team member works the same as for calling a tool: simply, the only argument you can give in the call is 'task', a long string explaining your task.\n",
        "  Given that this team member is a real human, you should be very verbose in your task.\n",
        "  Here is a list of the team members that you can call:\n",
        "  {%- for agent in managed_agents.values() %}\n",
        "  - {{ agent.name }}: {{ agent.description }}\n",
        "  {%- endfor %}\n",
        "  {%- endif %}\n",
        "  ```\n",
        "- For `CodeAgent` only, to insert the list of authorized imports: `\"{{authorized_imports}}\"`\n",
        "\n",
        "Then you can change the system prompt as follows:"
      ]
    },
    {
      "cell_type": "code",
      "execution_count": null,
      "metadata": {
        "id": "k-ivN9uzohFm"
      },
      "outputs": [],
      "source": [
        "agent.prompt_templates[\"system_prompt\"] = agent.prompt_templates[\"system_prompt\"] + \"\\nHere you go!\""
      ]
    },
    {
      "cell_type": "markdown",
      "metadata": {
        "id": "_hZB1jh7ohFn"
      },
      "source": [
        "This also works with the [ToolCallingAgent](https://huggingface.co/docs/smolagents/main/en/reference/agents#smolagents.ToolCallingAgent)."
      ]
    },
    {
      "cell_type": "markdown",
      "metadata": {
        "id": "50tvrKkBohFn"
      },
      "source": [
        "### 4. Extra planning"
      ]
    },
    {
      "cell_type": "markdown",
      "metadata": {
        "id": "XU1fott4ohFn"
      },
      "source": [
        "We provide a model for a supplementary planning step, that an agent can run regularly in-between normal action steps. In this step, there is no tool call, the LLM is simply asked to update a list of facts it knows and to reflect on what steps it should take next based on those facts."
      ]
    },
    {
      "cell_type": "code",
      "execution_count": null,
      "metadata": {
        "id": "wNh4cvtpohFn"
      },
      "outputs": [],
      "source": [
        "from smolagents import load_tool, CodeAgent, InferenceClientModel, WebSearchTool\n",
        "from dotenv import load_dotenv\n",
        "\n",
        "load_dotenv()\n",
        "\n",
        "# Import tool from Hub\n",
        "image_generation_tool = load_tool(\"m-ric/text-to-image\", trust_remote_code=True)\n",
        "\n",
        "search_tool = WebSearchTool()\n",
        "\n",
        "agent = CodeAgent(\n",
        "    tools=[search_tool, image_generation_tool],\n",
        "    model=InferenceClientModel(model_id=\"Qwen/Qwen2.5-72B-Instruct\"),\n",
        "    planning_interval=3 # This is where you activate planning!\n",
        ")\n",
        "\n",
        "# Run it!\n",
        "result = agent.run(\n",
        "    \"How long would a cheetah at full speed take to run the length of Pont Alexandre III?\",\n",
        ")"
      ]
    }
  ],
  "metadata": {
    "colab": {
      "provenance": [],
      "gpuType": "T4"
    },
    "accelerator": "GPU",
    "language_info": {
      "name": "python"
    },
    "kernelspec": {
      "name": "python3",
      "display_name": "Python 3"
    }
  },
  "nbformat": 4,
  "nbformat_minor": 0
}